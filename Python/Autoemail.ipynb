{
 "cells": [
  {
   "cell_type": "code",
   "execution_count": 20,
   "id": "5f6500e8-f09c-4810-aee6-75c0393ec487",
   "metadata": {},
   "outputs": [
    {
     "name": "stdout",
     "output_type": "stream",
     "text": [
      "Failed to send email: 'NoneType' object has no attribute 'encode'\n"
     ]
    }
   ],
   "source": [
    "import smtplib\n",
    "from email.mime.text import MIMEText\n",
    "from email.mime.multipart import MIMEMultipart\n",
    "import os\n",
    "\n",
    "# Email settings\n",
    "smtp_server = 'smtp.gmail.com'\n",
    "smtp_port = 587\n",
    "sender_email = os.environ.get('EMAIL_ADDRESS')\n",
    "password = os.environ.get('EMAIL_PASSWORD')\n",
    "receiver_email = 'receiver_email@example.com'\n",
    "subject = 'Test Email'\n",
    "body = 'This is a bot  from a Python script.'\n",
    "\n",
    "# Create a multipart message\n",
    "msg = MIMEMultipart()\n",
    "msg['From'] = sender_email\n",
    "msg['To'] = receiver_email\n",
    "msg['Subject'] = subject\n",
    "\n",
    "# Attach the body with the msg instance\n",
    "msg.attach(MIMEText(body, 'plain'))\n",
    "\n",
    "# Send the email\n",
    "try:\n",
    "    server = smtplib.SMTP(smtp_server, smtp_port)\n",
    "    server.starttls()  # Secure the connection\n",
    "    server.login(sender_email, password)\n",
    "    text = msg.as_string()\n",
    "    server.sendmail(sender_email, receiver_email, text)\n",
    "    print('Email sent successfully!')\n",
    "except Exception as e:\n",
    "    print(f'Failed to send email: {e}')\n",
    "finally:\n",
    "    server.quit()\n"
   ]
  },
  {
   "cell_type": "code",
   "execution_count": null,
   "id": "6740aa72-b0a5-4716-8546-dc7736f2d884",
   "metadata": {},
   "outputs": [],
   "source": []
  },
  {
   "cell_type": "code",
   "execution_count": null,
   "id": "3a6e8d4a-d7b8-42c3-9a6f-338877214447",
   "metadata": {},
   "outputs": [],
   "source": []
  },
  {
   "cell_type": "code",
   "execution_count": null,
   "id": "b5673b25-acbe-45cb-a0ce-97736d4a943f",
   "metadata": {},
   "outputs": [],
   "source": []
  },
  {
   "cell_type": "code",
   "execution_count": null,
   "id": "470563a1-0c4c-4105-8e93-cab7abc334a0",
   "metadata": {},
   "outputs": [],
   "source": []
  }
 ],
 "metadata": {
  "kernelspec": {
   "display_name": "Python 3 (ipykernel)",
   "language": "python",
   "name": "python3"
  },
  "language_info": {
   "codemirror_mode": {
    "name": "ipython",
    "version": 3
   },
   "file_extension": ".py",
   "mimetype": "text/x-python",
   "name": "python",
   "nbconvert_exporter": "python",
   "pygments_lexer": "ipython3",
   "version": "3.12.4"
  }
 },
 "nbformat": 4,
 "nbformat_minor": 5
}
