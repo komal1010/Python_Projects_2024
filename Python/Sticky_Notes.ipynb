{
 "cells": [
  {
   "cell_type": "code",
   "execution_count": 11,
   "id": "50e7e9b9-249a-4a06-a009-48ac696a27a3",
   "metadata": {},
   "outputs": [
    {
     "name": "stdout",
     "output_type": "stream",
     "text": [
      "Welcome to Sticky Notes Application.\n"
     ]
    },
    {
     "name": "stdin",
     "output_type": "stream",
     "text": [
      "Type important notes here:  1. check for update 2. add data to github\n"
     ]
    }
   ],
   "source": [
    "import tkinter as tk\n",
    "\n",
    "\n",
    "def cli():\n",
    "    import time\n",
    "    current_time = time.strftime(\"%H:%M\")\n",
    "  \n",
    "    print(\"Welcome to Sticky Notes Application.\")\n",
    "    time.sleep(2)\n",
    "    note_input = input(\"Type important notes here: \")\n",
    "    note = (\"%s\") % note_input\n",
    "    time.sleep(1)\n",
    "   \n",
    "    root = tk.Tk()\n",
    "    root.title(\"Sticky_Notes\")\n",
    "    root.geometry(\"500x500\")\n",
    "    root.configure(background='pink')\n",
    "\n",
    "    tk.Label(root, text=current_time, background = 'pink').pack()\n",
    "  \n",
    "    tk.Label(root, text=note , background = 'pink').pack()\n",
    "\n",
    "    root.mainloop()\n",
    "\n",
    "cli()\n",
    "\n"
   ]
  },
  {
   "cell_type": "code",
   "execution_count": null,
   "id": "6326bc87-0c18-42a7-942e-c365e1200662",
   "metadata": {},
   "outputs": [],
   "source": []
  }
 ],
 "metadata": {
  "kernelspec": {
   "display_name": "Python 3 (ipykernel)",
   "language": "python",
   "name": "python3"
  },
  "language_info": {
   "codemirror_mode": {
    "name": "ipython",
    "version": 3
   },
   "file_extension": ".py",
   "mimetype": "text/x-python",
   "name": "python",
   "nbconvert_exporter": "python",
   "pygments_lexer": "ipython3",
   "version": "3.12.4"
  }
 },
 "nbformat": 4,
 "nbformat_minor": 5
}
