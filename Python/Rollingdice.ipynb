{
 "cells": [
  {
   "cell_type": "code",
   "execution_count": 1,
   "id": "657b33cf-18f9-461a-a734-3df17057c26e",
   "metadata": {},
   "outputs": [
    {
     "name": "stdout",
     "output_type": "stream",
     "text": [
      "Welcome to the Dice Game !!!\n",
      "You got  2\n",
      "\n",
      "Do you want to play again ?\n",
      "Enter Yes/No\n"
     ]
    },
    {
     "name": "stdin",
     "output_type": "stream",
     "text": [
      " yes\n"
     ]
    },
    {
     "name": "stdout",
     "output_type": "stream",
     "text": [
      "You got  6\n",
      "\n",
      "Do you want to play again ?\n",
      "Enter Yes/No\n"
     ]
    },
    {
     "name": "stdin",
     "output_type": "stream",
     "text": [
      " yes\n"
     ]
    },
    {
     "name": "stdout",
     "output_type": "stream",
     "text": [
      "You got  5\n",
      "\n",
      "Do you want to play again ?\n",
      "Enter Yes/No\n"
     ]
    },
    {
     "name": "stdin",
     "output_type": "stream",
     "text": [
      " yes\n"
     ]
    },
    {
     "name": "stdout",
     "output_type": "stream",
     "text": [
      "You got  5\n",
      "\n",
      "Do you want to play again ?\n",
      "Enter Yes/No\n"
     ]
    },
    {
     "name": "stdin",
     "output_type": "stream",
     "text": [
      " no\n"
     ]
    }
   ],
   "source": [
    "# importing the required module\n",
    "import random\n",
    "\n",
    "#this function will ask the user whether he/she want to play again or not ?.\n",
    "def roll_dice():\n",
    "    print('\\nDo you want to play again ?')\n",
    "    print('Enter Yes/No')\n",
    "    choice = input()\n",
    "\n",
    "    # if the user doesn't enter anything,he/she will be asked to enter again.\n",
    "    if choice =='':\n",
    "        print('Wrong Input !!! Enter again Yes/No')\n",
    "        choice = roll_dice()\n",
    "    return choice\n",
    "\n",
    "if __name__ == '__main__':\n",
    "    print('Welcome to the Dice Game !!!')\n",
    "    dice_value = random.randint(1, 6)\n",
    "    print('You got ', dice_value)\n",
    "    choice = roll_dice()\n",
    "\n",
    "    #this while loop will run untill the user doesn't want to play again.\n",
    "    while choice:\n",
    "        if choice == 'No' or choice == 'no':\n",
    "            break\n",
    "        elif choice == 'Yes' or choice == 'yes':\n",
    "            dice_value = random.randint(1, 6)\n",
    "            print('You got ', dice_value)\n",
    "            choice = roll_dice()\n",
    "        else:\n",
    "            print('Wrong Input !!! Enter again Yes/No')\n",
    "            choice = roll_dice()"
   ]
  },
  {
   "cell_type": "code",
   "execution_count": null,
   "id": "e06e1c78-c369-47e3-b8d8-00162f30682c",
   "metadata": {},
   "outputs": [],
   "source": []
  }
 ],
 "metadata": {
  "kernelspec": {
   "display_name": "Python 3 (ipykernel)",
   "language": "python",
   "name": "python3"
  },
  "language_info": {
   "codemirror_mode": {
    "name": "ipython",
    "version": 3
   },
   "file_extension": ".py",
   "mimetype": "text/x-python",
   "name": "python",
   "nbconvert_exporter": "python",
   "pygments_lexer": "ipython3",
   "version": "3.12.4"
  }
 },
 "nbformat": 4,
 "nbformat_minor": 5
}
