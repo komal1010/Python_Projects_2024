{
 "cells": [
  {
   "cell_type": "code",
   "execution_count": 11,
   "id": "84c45dc6-f22c-4554-834e-c00b73c9bd3b",
   "metadata": {},
   "outputs": [
    {
     "ename": "IndentationError",
     "evalue": "expected an indented block after 'for' statement on line 8 (982982358.py, line 9)",
     "output_type": "error",
     "traceback": [
      "\u001b[1;36m  Cell \u001b[1;32mIn[11], line 9\u001b[1;36m\u001b[0m\n\u001b[1;33m    if (num % i) == 0:\u001b[0m\n\u001b[1;37m    ^\u001b[0m\n\u001b[1;31mIndentationError\u001b[0m\u001b[1;31m:\u001b[0m expected an indented block after 'for' statement on line 8\n"
     ]
    }
   ],
   "source": [
    "num = int(input(\"Enter a number: \"))\n",
    "# define a flag variable\n",
    "flag = False\n",
    "if num == 1:\n",
    " print(f\"{num}, is not a prime number\")\n",
    "elif num > 1:\n",
    " # check for factors\n",
    " for i in range(2, num):\n",
    " if (num % i) == 0:\n",
    " flag = True # if factor is found, set flag to True\n",
    " # break out of loop\n",
    " break\n",
    " # check if flag is True\n",
    "if flag:\n",
    " print(f\"{num}, is not a prime number\")\n",
    "else:\n",
    " print(f\"{num}, is a prime number\")"
   ]
  },
  {
   "cell_type": "code",
   "execution_count": null,
   "id": "854eb520-cb68-4615-b0a5-b746f5d57682",
   "metadata": {},
   "outputs": [],
   "source": []
  }
 ],
 "metadata": {
  "kernelspec": {
   "display_name": "Python 3 (ipykernel)",
   "language": "python",
   "name": "python3"
  },
  "language_info": {
   "codemirror_mode": {
    "name": "ipython",
    "version": 3
   },
   "file_extension": ".py",
   "mimetype": "text/x-python",
   "name": "python",
   "nbconvert_exporter": "python",
   "pygments_lexer": "ipython3",
   "version": "3.12.4"
  }
 },
 "nbformat": 4,
 "nbformat_minor": 5
}
