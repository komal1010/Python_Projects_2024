{
 "cells": [
  {
   "cell_type": "code",
   "execution_count": 6,
   "id": "d8ca9376-661f-4333-bce2-580c234618de",
   "metadata": {},
   "outputs": [
    {
     "ename": "ModuleNotFoundError",
     "evalue": "No module named 'selenium'",
     "output_type": "error",
     "traceback": [
      "\u001b[1;31m---------------------------------------------------------------------------\u001b[0m",
      "\u001b[1;31mModuleNotFoundError\u001b[0m                       Traceback (most recent call last)",
      "Cell \u001b[1;32mIn[6], line 1\u001b[0m\n\u001b[1;32m----> 1\u001b[0m \u001b[38;5;28;01mfrom\u001b[39;00m \u001b[38;5;21;01mselenium\u001b[39;00m \u001b[38;5;28;01mimport\u001b[39;00m webdriver\n\u001b[0;32m      2\u001b[0m \u001b[38;5;28;01mimport\u001b[39;00m \u001b[38;5;21;01mtime\u001b[39;00m\n\u001b[0;32m      3\u001b[0m \u001b[38;5;28;01mfrom\u001b[39;00m \u001b[38;5;21;01mselenium\u001b[39;00m\u001b[38;5;21;01m.\u001b[39;00m\u001b[38;5;21;01mwebdriver\u001b[39;00m\u001b[38;5;21;01m.\u001b[39;00m\u001b[38;5;21;01mcommon\u001b[39;00m\u001b[38;5;21;01m.\u001b[39;00m\u001b[38;5;21;01mkeys\u001b[39;00m \u001b[38;5;28;01mimport\u001b[39;00m Keys\n",
      "\u001b[1;31mModuleNotFoundError\u001b[0m: No module named 'selenium'"
     ]
    }
   ],
   "source": [
    "from selenium import webdriver\n",
    "import time\n",
    "from selenium.webdriver.common.keys import Keys\n",
    "\n",
    "\n",
    "user_id=input('Enter User Id of your Fb Account :')  # Take user id and password as input from the user\n",
    "password=input('Enter the password :')\n",
    "\n",
    "print(user_id)\n",
    "print(password)\n",
    "\n",
    "cd='C:\\\\webdrivers\\\\chromedriver.exe'\n",
    "\n",
    "\n",
    "browser= webdriver.Chrome(cd)\n",
    "browser.get('https://www.facebook.com/')\n",
    "\n",
    "\n",
    "user_box = browser.find_element_by_id(\"email\")       # For detecting the user id box\n",
    "user_box.send_keys(user_id)                                               # Enter the user id in the box \n",
    "\n",
    "password_box = browser.find_element_by_id(\"pass\")    # For detecting the password box\n",
    "password_box.send_keys(password)                                          # For detecting the password in the box\n",
    "\n",
    "login_box = browser.find_element_by_id(\"u_0_b\")      # For detecting the Login button\n",
    "login_box.click()\n",
    "\n",
    "time.sleep(20)\n",
    "\n",
    "k='//*[@id=\"home_birthdays\"]/div/div/div/div/a/div/div/span/span[2]'\n",
    "n=browser.find_element_by_xpath(k).get_attribute('textContent')\n",
    " # To get the number of friends to be wished\n",
    "num=n[0]\n",
    "num=int(num)\n",
    "print(num)\n",
    "\n",
    "\n",
    "message= \"Happy Birthday !!\"\n",
    "browser.get('https://www.facebook.com/events/birthdays/') \n",
    "#time.sleep(3)\n",
    "\n",
    "bday_list=browser.find_elements_by_xpath(\"//*[@class ='enter_submit uiTextareaNoResize uiTextareaAutogrow uiStreamInlineTextarea inlineReplyTextArea mentionsTextarea textInput']\") \n",
    "\n",
    "c=0\n",
    "for element in bday_list: \n",
    "    element_id = str(element.get_attribute('id')) \n",
    "    XPATH = '//*[@id =\"' + element_id + '\"]'\n",
    "    post = browser.find_element_by_xpath(XPATH) #To fetch the box where to enter text\n",
    "    post.send_keys(\"Happy Birthday, Best wishes.\") # To enter the bday wish\n",
    "    #time.sleep(1)\n",
    "    post.send_keys(Keys.RETURN) #To send the wish\n",
    "    c=c+1\n",
    "    if(c>num):  # This prevents putting wishes for belated birthday\n",
    "        break\n",
    "\n",
    "browser.quit()"
   ]
  },
  {
   "cell_type": "code",
   "execution_count": null,
   "id": "1c5a67f6-3896-4a65-bfcb-46d229472dbe",
   "metadata": {},
   "outputs": [],
   "source": []
  },
  {
   "cell_type": "code",
   "execution_count": null,
   "id": "ec106170-b3ba-476f-a492-83bfcd950126",
   "metadata": {},
   "outputs": [],
   "source": []
  }
 ],
 "metadata": {
  "kernelspec": {
   "display_name": "Python 3 (ipykernel)",
   "language": "python",
   "name": "python3"
  },
  "language_info": {
   "codemirror_mode": {
    "name": "ipython",
    "version": 3
   },
   "file_extension": ".py",
   "mimetype": "text/x-python",
   "name": "python",
   "nbconvert_exporter": "python",
   "pygments_lexer": "ipython3",
   "version": "3.12.4"
  }
 },
 "nbformat": 4,
 "nbformat_minor": 5
}
