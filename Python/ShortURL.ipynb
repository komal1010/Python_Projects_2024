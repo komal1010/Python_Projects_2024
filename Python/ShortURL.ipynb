{
 "cells": [
  {
   "cell_type": "code",
   "execution_count": 74,
   "id": "ceee14de-bde7-4288-b95d-5a347ce5e293",
   "metadata": {
    "scrolled": true
   },
   "outputs": [],
   "source": [
    "import pyshorteners\n",
    "from tkinter import *\n",
    "\n",
    "# Create the main window\n",
    "win = Tk()\n",
    "win.geometry(\"400x200\")  # Correct format for geometry specification\n",
    "win.configure(bg=\"green\")\n",
    "win.title(\"URL Shortener\")\n",
    "\n",
    "# Function to shorten the URL\n",
    "def shorten_url():\n",
    "    url = url_entry.get()\n",
    "    s = pyshorteners.Shortener()\n",
    "    short_url = s.tinyurl.short(url)\n",
    "    short_url_label.config(text=short_url)\n",
    "\n",
    "# Label for entering user URL\n",
    "Label(win, text=\"Enter Your URL Link\", font=\"impact 17 bold\", bg=\"black\", fg=\"white\").pack(fill=\"x\")\n",
    "\n",
    "# Entry widget for URL input\n",
    "url_entry = Entry(win, font=\"impact 16 bold\", bd=3, width=40, bg=\"pink\")\n",
    "url_entry.pack(pady=5)\n",
    "\n",
    "# Button to shorten the URL\n",
    "shorten_button = Button(win, text=\"Shorten URL\", command=shorten_url)\n",
    "shorten_button.pack(pady=10)\n",
    "\n",
    "# Label to display the shortened URL\n",
    "short_url_label = Label(win, text=\"\", bg=\"green\")\n",
    "short_url_label.pack(pady=5)\n",
    "\n",
    "# Run the main event loop\n",
    "win.mainloop()\n"
   ]
  },
  {
   "cell_type": "code",
   "execution_count": null,
   "id": "dd8ec1bb-5e61-4030-94af-04254749705e",
   "metadata": {},
   "outputs": [],
   "source": []
  },
  {
   "cell_type": "code",
   "execution_count": null,
   "id": "387fd877-143a-48eb-88d3-cb35895121ee",
   "metadata": {},
   "outputs": [],
   "source": []
  },
  {
   "cell_type": "code",
   "execution_count": null,
   "id": "00ab119d-cae7-4e07-820d-36ee3cfd10f6",
   "metadata": {},
   "outputs": [],
   "source": []
  },
  {
   "cell_type": "code",
   "execution_count": null,
   "id": "8592649b-b2b8-48a4-813f-8846e3155463",
   "metadata": {},
   "outputs": [],
   "source": []
  }
 ],
 "metadata": {
  "kernelspec": {
   "display_name": "Python 3 (ipykernel)",
   "language": "python",
   "name": "python3"
  },
  "language_info": {
   "codemirror_mode": {
    "name": "ipython",
    "version": 3
   },
   "file_extension": ".py",
   "mimetype": "text/x-python",
   "name": "python",
   "nbconvert_exporter": "python",
   "pygments_lexer": "ipython3",
   "version": "3.12.4"
  }
 },
 "nbformat": 4,
 "nbformat_minor": 5
}
